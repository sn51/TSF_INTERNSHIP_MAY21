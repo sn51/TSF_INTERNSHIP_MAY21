{
  "nbformat": 4,
  "nbformat_minor": 0,
  "metadata": {
    "colab": {
      "name": "TSF GRIP TASK1.ipynb",
      "provenance": []
    },
    "kernelspec": {
      "name": "python3",
      "display_name": "Python 3"
    },
    "language_info": {
      "name": "python"
    }
  },
  "cells": [
    {
      "cell_type": "markdown",
      "metadata": {
        "id": "isMp-xzpJS0e"
      },
      "source": [
        "\n",
        "**TASK-1 PREDICTION USING SUPERVISED ML**\n",
        "\n",
        "*BY - SNEHA JHA*"
      ]
    },
    {
      "cell_type": "markdown",
      "metadata": {
        "id": "ITA_M1T3LS5Q"
      },
      "source": [
        " ***Our task is to Predict the percentage of an student based on the no. of study hours. Here we will use simple linear regression as it involves 2 variables ***"
      ]
    },
    {
      "cell_type": "markdown",
      "metadata": {
        "id": "XtEDIgnbLBvr"
      },
      "source": [
        "First step is to upload dataset "
      ]
    },
    {
      "cell_type": "code",
      "metadata": {
        "id": "oQCwSI9Mcrxm"
      },
      "source": [
        "link = \"http://bit.ly/w-data\"\n"
      ],
      "execution_count": 1,
      "outputs": []
    },
    {
      "cell_type": "markdown",
      "metadata": {
        "id": "yPssO_uBnZ4w"
      },
      "source": [
        "**IMPORTING THE LIBRARIES**"
      ]
    },
    {
      "cell_type": "markdown",
      "metadata": {
        "id": "uguCeJ3mNUvm"
      },
      "source": [
        "Next step is to import all the required libraries"
      ]
    },
    {
      "cell_type": "code",
      "metadata": {
        "id": "NBBB0vF-JPWO"
      },
      "source": [
        "import pandas as pd\n",
        "import numpy as np\n",
        "import matplotlib.pyplot as plt\n",
        "import seaborn as sns"
      ],
      "execution_count": 2,
      "outputs": []
    },
    {
      "cell_type": "markdown",
      "metadata": {
        "id": "oQLoB742nfB1"
      },
      "source": [
        "**IMPORTING THE DATASET**"
      ]
    },
    {
      "cell_type": "markdown",
      "metadata": {
        "id": "vdv0bWfLNxGb"
      },
      "source": [
        "Now we are going to import our dataset and try to have a look on the dataset"
      ]
    },
    {
      "cell_type": "code",
      "metadata": {
        "colab": {
          "base_uri": "https://localhost:8080/",
          "height": 348
        },
        "id": "40ovWK4dNnU7",
        "outputId": "91887ea3-3c8c-4dad-cac1-da2155f3a762"
      },
      "source": [
        "data = pd.read_csv(link)\n",
        "data.head(10) # it is going to show me 10 datapoints"
      ],
      "execution_count": 5,
      "outputs": [
        {
          "output_type": "execute_result",
          "data": {
            "text/html": [
              "<div>\n",
              "<style scoped>\n",
              "    .dataframe tbody tr th:only-of-type {\n",
              "        vertical-align: middle;\n",
              "    }\n",
              "\n",
              "    .dataframe tbody tr th {\n",
              "        vertical-align: top;\n",
              "    }\n",
              "\n",
              "    .dataframe thead th {\n",
              "        text-align: right;\n",
              "    }\n",
              "</style>\n",
              "<table border=\"1\" class=\"dataframe\">\n",
              "  <thead>\n",
              "    <tr style=\"text-align: right;\">\n",
              "      <th></th>\n",
              "      <th>Hours</th>\n",
              "      <th>Scores</th>\n",
              "    </tr>\n",
              "  </thead>\n",
              "  <tbody>\n",
              "    <tr>\n",
              "      <th>0</th>\n",
              "      <td>2.5</td>\n",
              "      <td>21</td>\n",
              "    </tr>\n",
              "    <tr>\n",
              "      <th>1</th>\n",
              "      <td>5.1</td>\n",
              "      <td>47</td>\n",
              "    </tr>\n",
              "    <tr>\n",
              "      <th>2</th>\n",
              "      <td>3.2</td>\n",
              "      <td>27</td>\n",
              "    </tr>\n",
              "    <tr>\n",
              "      <th>3</th>\n",
              "      <td>8.5</td>\n",
              "      <td>75</td>\n",
              "    </tr>\n",
              "    <tr>\n",
              "      <th>4</th>\n",
              "      <td>3.5</td>\n",
              "      <td>30</td>\n",
              "    </tr>\n",
              "    <tr>\n",
              "      <th>5</th>\n",
              "      <td>1.5</td>\n",
              "      <td>20</td>\n",
              "    </tr>\n",
              "    <tr>\n",
              "      <th>6</th>\n",
              "      <td>9.2</td>\n",
              "      <td>88</td>\n",
              "    </tr>\n",
              "    <tr>\n",
              "      <th>7</th>\n",
              "      <td>5.5</td>\n",
              "      <td>60</td>\n",
              "    </tr>\n",
              "    <tr>\n",
              "      <th>8</th>\n",
              "      <td>8.3</td>\n",
              "      <td>81</td>\n",
              "    </tr>\n",
              "    <tr>\n",
              "      <th>9</th>\n",
              "      <td>2.7</td>\n",
              "      <td>25</td>\n",
              "    </tr>\n",
              "  </tbody>\n",
              "</table>\n",
              "</div>"
            ],
            "text/plain": [
              "   Hours  Scores\n",
              "0    2.5      21\n",
              "1    5.1      47\n",
              "2    3.2      27\n",
              "3    8.5      75\n",
              "4    3.5      30\n",
              "5    1.5      20\n",
              "6    9.2      88\n",
              "7    5.5      60\n",
              "8    8.3      81\n",
              "9    2.7      25"
            ]
          },
          "metadata": {
            "tags": []
          },
          "execution_count": 5
        }
      ]
    },
    {
      "cell_type": "code",
      "metadata": {
        "colab": {
          "base_uri": "https://localhost:8080/",
          "height": 288
        },
        "id": "Fzci9kkFOIYE",
        "outputId": "97c218f6-fb28-44a7-a015-89186b7c02dd"
      },
      "source": [
        "data.describe()  "
      ],
      "execution_count": 6,
      "outputs": [
        {
          "output_type": "execute_result",
          "data": {
            "text/html": [
              "<div>\n",
              "<style scoped>\n",
              "    .dataframe tbody tr th:only-of-type {\n",
              "        vertical-align: middle;\n",
              "    }\n",
              "\n",
              "    .dataframe tbody tr th {\n",
              "        vertical-align: top;\n",
              "    }\n",
              "\n",
              "    .dataframe thead th {\n",
              "        text-align: right;\n",
              "    }\n",
              "</style>\n",
              "<table border=\"1\" class=\"dataframe\">\n",
              "  <thead>\n",
              "    <tr style=\"text-align: right;\">\n",
              "      <th></th>\n",
              "      <th>Hours</th>\n",
              "      <th>Scores</th>\n",
              "    </tr>\n",
              "  </thead>\n",
              "  <tbody>\n",
              "    <tr>\n",
              "      <th>count</th>\n",
              "      <td>25.000000</td>\n",
              "      <td>25.000000</td>\n",
              "    </tr>\n",
              "    <tr>\n",
              "      <th>mean</th>\n",
              "      <td>5.012000</td>\n",
              "      <td>51.480000</td>\n",
              "    </tr>\n",
              "    <tr>\n",
              "      <th>std</th>\n",
              "      <td>2.525094</td>\n",
              "      <td>25.286887</td>\n",
              "    </tr>\n",
              "    <tr>\n",
              "      <th>min</th>\n",
              "      <td>1.100000</td>\n",
              "      <td>17.000000</td>\n",
              "    </tr>\n",
              "    <tr>\n",
              "      <th>25%</th>\n",
              "      <td>2.700000</td>\n",
              "      <td>30.000000</td>\n",
              "    </tr>\n",
              "    <tr>\n",
              "      <th>50%</th>\n",
              "      <td>4.800000</td>\n",
              "      <td>47.000000</td>\n",
              "    </tr>\n",
              "    <tr>\n",
              "      <th>75%</th>\n",
              "      <td>7.400000</td>\n",
              "      <td>75.000000</td>\n",
              "    </tr>\n",
              "    <tr>\n",
              "      <th>max</th>\n",
              "      <td>9.200000</td>\n",
              "      <td>95.000000</td>\n",
              "    </tr>\n",
              "  </tbody>\n",
              "</table>\n",
              "</div>"
            ],
            "text/plain": [
              "           Hours     Scores\n",
              "count  25.000000  25.000000\n",
              "mean    5.012000  51.480000\n",
              "std     2.525094  25.286887\n",
              "min     1.100000  17.000000\n",
              "25%     2.700000  30.000000\n",
              "50%     4.800000  47.000000\n",
              "75%     7.400000  75.000000\n",
              "max     9.200000  95.000000"
            ]
          },
          "metadata": {
            "tags": []
          },
          "execution_count": 6
        }
      ]
    },
    {
      "cell_type": "code",
      "metadata": {
        "colab": {
          "base_uri": "https://localhost:8080/"
        },
        "id": "Q4Hwo8DOORKf",
        "outputId": "9fde7e9b-b9e4-42fd-c666-9d6f6540a266"
      },
      "source": [
        "data.info()"
      ],
      "execution_count": null,
      "outputs": [
        {
          "output_type": "stream",
          "text": [
            "<class 'pandas.core.frame.DataFrame'>\n",
            "RangeIndex: 25 entries, 0 to 24\n",
            "Data columns (total 2 columns):\n",
            " #   Column  Non-Null Count  Dtype  \n",
            "---  ------  --------------  -----  \n",
            " 0   Hours   25 non-null     float64\n",
            " 1   Scores  25 non-null     int64  \n",
            "dtypes: float64(1), int64(1)\n",
            "memory usage: 528.0 bytes\n"
          ],
          "name": "stdout"
        }
      ]
    },
    {
      "cell_type": "markdown",
      "metadata": {
        "id": "wlWZcYHVnkf3"
      },
      "source": [
        "**DATA VISUALIZATION**"
      ]
    },
    {
      "cell_type": "markdown",
      "metadata": {
        "id": "PNQgVgSjOt2r"
      },
      "source": [
        "Now we will try to visualise the our data"
      ]
    },
    {
      "cell_type": "code",
      "metadata": {
        "colab": {
          "base_uri": "https://localhost:8080/",
          "height": 283
        },
        "id": "KqUNthN9OV4Q",
        "outputId": "f5fffd18-a24c-4af9-e685-b28905bdf2c0"
      },
      "source": [
        "plt.scatter(data['Hours'],data['Scores'])"
      ],
      "execution_count": null,
      "outputs": [
        {
          "output_type": "execute_result",
          "data": {
            "text/plain": [
              "<matplotlib.collections.PathCollection at 0x7f269c6c2b50>"
            ]
          },
          "metadata": {
            "tags": []
          },
          "execution_count": 11
        },
        {
          "output_type": "display_data",
          "data": {
            "image/png": "[encoded data removed]",
            "text/plain": [
              "<Figure size 432x288 with 1 Axes>"
            ]
          },
          "metadata": {
            "tags": [],
            "needs_background": "light"
          }
        }
      ]
    },
    {
      "cell_type": "code",
      "metadata": {
        "colab": {
          "base_uri": "https://localhost:8080/",
          "height": 297
        },
        "id": "RXDqtHLmRvqO",
        "outputId": "6ca3d16a-fbdd-475f-e709-fd60914eca8f"
      },
      "source": [
        "sns.violinplot(x='Hours',data= data)"
      ],
      "execution_count": null,
      "outputs": [
        {
          "output_type": "execute_result",
          "data": {
            "text/plain": [
              "<matplotlib.axes._subplots.AxesSubplot at 0x7f269c64f650>"
            ]
          },
          "metadata": {
            "tags": []
          },
          "execution_count": 12
        },
        {
          "output_type": "display_data",
          "data": {
            "image/png": "[encoded data removed]",
            "text/plain": [
              "<Figure size 432x288 with 1 Axes>"
            ]
          },
          "metadata": {
            "tags": [],
            "needs_background": "light"
          }
        }
      ]
    },
    {
      "cell_type": "code",
      "metadata": {
        "colab": {
          "base_uri": "https://localhost:8080/",
          "height": 297
        },
        "id": "0ytasqQrSBAn",
        "outputId": "f13b79d9-4378-412d-f787-0eb6016b8259"
      },
      "source": [
        "sns.violinplot(x='Scores',data= data)"
      ],
      "execution_count": null,
      "outputs": [
        {
          "output_type": "execute_result",
          "data": {
            "text/plain": [
              "<matplotlib.axes._subplots.AxesSubplot at 0x7f269a157ed0>"
            ]
          },
          "metadata": {
            "tags": []
          },
          "execution_count": 13
        },
        {
          "output_type": "display_data",
          "data": {
            "image/png": "[encoded data removed]",
            "text/plain": [
              "<Figure size 432x288 with 1 Axes>"
            ]
          },
          "metadata": {
            "tags": [],
            "needs_background": "light"
          }
        }
      ]
    },
    {
      "cell_type": "markdown",
      "metadata": {
        "id": "_-qzln3YRmHO"
      },
      "source": [
        "It is quite evident from the above graphs that score and hours have a linear relationship between them"
      ]
    },
    {
      "cell_type": "markdown",
      "metadata": {
        "id": "dGR3VHXXSg9b"
      },
      "source": [
        "**DATA PREPROCESSING**\n",
        "Here is this step we will try to preprocess the data \n"
      ]
    },
    {
      "cell_type": "code",
      "metadata": {
        "id": "fW6pu35LPQ8H"
      },
      "source": [
        "X = data.iloc[:, :-1].values # X values are trimmed\n",
        "y = data.iloc[:, 1].values # y values are trimmed\n",
        "\n"
      ],
      "execution_count": null,
      "outputs": []
    },
    {
      "cell_type": "markdown",
      "metadata": {
        "id": "jlv6M3Z-TSOc"
      },
      "source": [
        "**Splitting the data into training set and test set**"
      ]
    },
    {
      "cell_type": "code",
      "metadata": {
        "id": "lsCguiWKTRJf"
      },
      "source": [
        "from sklearn.model_selection import train_test_split\n",
        "X_train,X_test,y_train,y_test= train_test_split(X,y, test_size=0.2,random_state=0)"
      ],
      "execution_count": null,
      "outputs": []
    },
    {
      "cell_type": "markdown",
      "metadata": {
        "id": "wXn2cOvBUU-F"
      },
      "source": [
        "  **TRAINING OF OUR MODEL**\n",
        "  \n",
        "  Now we will train our Linear Regression model "
      ]
    },
    {
      "cell_type": "code",
      "metadata": {
        "colab": {
          "base_uri": "https://localhost:8080/"
        },
        "id": "8NxcGz42TDSW",
        "outputId": "ed9cffbe-cfb5-4dad-c419-8f6eebc8fa1a"
      },
      "source": [
        " from sklearn.linear_model import LinearRegression\n",
        " classifier = LinearRegression()\n",
        " classifier.fit(X_train,y_train)"
      ],
      "execution_count": null,
      "outputs": [
        {
          "output_type": "execute_result",
          "data": {
            "text/plain": [
              "LinearRegression(copy_X=True, fit_intercept=True, n_jobs=None, normalize=False)"
            ]
          },
          "metadata": {
            "tags": []
          },
          "execution_count": 29
        }
      ]
    },
    {
      "cell_type": "markdown",
      "metadata": {
        "id": "-nEd32Qlmb3x"
      },
      "source": [
        "After the training of our model we will try to have a look on the classifier line"
      ]
    },
    {
      "cell_type": "code",
      "metadata": {
        "colab": {
          "base_uri": "https://localhost:8080/",
          "height": 297
        },
        "id": "Tf9HI0JIjlZh",
        "outputId": "d4bdc74c-32db-4241-8fcd-2cfdabefdaa8"
      },
      "source": [
        "plt.scatter(X_train,y_train)\n",
        "plt.plot(X_train,classifier.predict(X_train), color='red')\n",
        "plt.xlabel('HOURS')\n",
        "plt.ylabel('SCORES')\n"
      ],
      "execution_count": null,
      "outputs": [
        {
          "output_type": "execute_result",
          "data": {
            "text/plain": [
              "Text(0, 0.5, 'SCORES')"
            ]
          },
          "metadata": {
            "tags": []
          },
          "execution_count": 42
        },
        {
          "output_type": "display_data",
          "data": {
            "image/png": "[encoded data removed]",
            "text/plain": [
              "<Figure size 432x288 with 1 Axes>"
            ]
          },
          "metadata": {
            "tags": [],
            "needs_background": "light"
          }
        }
      ]
    },
    {
      "cell_type": "code",
      "metadata": {
        "colab": {
          "base_uri": "https://localhost:8080/",
          "height": 297
        },
        "id": "-2zh0EGol8kY",
        "outputId": "b5048fad-fd6f-41ba-e6a0-92c65c55ae8d"
      },
      "source": [
        "plt.scatter(X_test,y_test)\n",
        "plt.plot(X_train,classifier.predict(X_train), color='red')\n",
        "plt.xlabel('HOURS')\n",
        "plt.ylabel('SCORES')"
      ],
      "execution_count": null,
      "outputs": [
        {
          "output_type": "execute_result",
          "data": {
            "text/plain": [
              "Text(0, 0.5, 'SCORES')"
            ]
          },
          "metadata": {
            "tags": []
          },
          "execution_count": 44
        },
        {
          "output_type": "display_data",
          "data": {
            "image/png": "[encoded data removed]",
            "text/plain": [
              "<Figure size 432x288 with 1 Axes>"
            ]
          },
          "metadata": {
            "tags": [],
            "needs_background": "light"
          }
        }
      ]
    },
    {
      "cell_type": "markdown",
      "metadata": {
        "id": "sakNis5qoGqG"
      },
      "source": [
        "**MAKING PREDICTIONS**"
      ]
    },
    {
      "cell_type": "markdown",
      "metadata": {
        "id": "dr2UUHyheTvu"
      },
      "source": [
        "Now as our training is done we will predict test set results"
      ]
    },
    {
      "cell_type": "code",
      "metadata": {
        "id": "wnlJH0mTVNO2"
      },
      "source": [
        "y_pred = classifier.predict(X_test)"
      ],
      "execution_count": null,
      "outputs": []
    },
    {
      "cell_type": "markdown",
      "metadata": {
        "id": "KZ5iITjXmugX"
      },
      "source": [
        "To check the accuracy of our model we had used here K-FOLD CROSS VALIDATION"
      ]
    },
    {
      "cell_type": "code",
      "metadata": {
        "colab": {
          "base_uri": "https://localhost:8080/"
        },
        "id": "y873OULAef0d",
        "outputId": "6433f38c-4f2c-45ce-e44f-e12fc4b7e045"
      },
      "source": [
        "from sklearn.model_selection import cross_val_score\n",
        "accuracy = cross_val_score(estimator= classifier,X = X_train , y= y_train, cv = 10)\n",
        "print(\"Accuracy: {:.2f}%\".format(accuracy.mean()*100))  #want only 2 decimal\n",
        "print(\"Standard deviation: {:.2f}%\".format(accuracy.std()*100))"
      ],
      "execution_count": null,
      "outputs": [
        {
          "output_type": "stream",
          "text": [
            "Accuracy: -50.67%\n",
            "Standard deviation: 266.43%\n"
          ],
          "name": "stdout"
        }
      ]
    },
    {
      "cell_type": "markdown",
      "metadata": {
        "id": "zcqqz8YPm8ej"
      },
      "source": [
        "What will be predicted score if a student studies for 9.25 hrs/ day?"
      ]
    },
    {
      "cell_type": "code",
      "metadata": {
        "colab": {
          "base_uri": "https://localhost:8080/"
        },
        "id": "oh0WsmN7fSPR",
        "outputId": "76f09388-cab4-40f8-a35b-c57481cb2484"
      },
      "source": [
        "print(\"The score of a student if he studies 9.25 hrs/day\", classifier.predict([[9.25]]))"
      ],
      "execution_count": null,
      "outputs": [
        {
          "output_type": "stream",
          "text": [
            "The score of a student if he studies 9.25 hrs/day [98.37661031]\n"
          ],
          "name": "stdout"
        }
      ]
    },
    {
      "cell_type": "code",
      "metadata": {
        "id": "m3Sz4GfQjcvP"
      },
      "source": [
        ""
      ],
      "execution_count": null,
      "outputs": []
    }
  ]
}